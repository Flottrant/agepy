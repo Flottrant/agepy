{
 "cells": [
  {
   "cell_type": "markdown",
   "metadata": {},
   "source": [
    "# Plotting"
   ]
  },
  {
   "cell_type": "code",
   "execution_count": null,
   "metadata": {},
   "outputs": [],
   "source": [
    "%matplotlib inline\n",
    "import matplotlib.pyplot as plt\n",
    "import numpy as np\n",
    "from scipy.stats import norm, expon\n",
    "\n",
    "# import AGE plotting\n",
    "from agepy import plot"
   ]
  },
  {
   "cell_type": "code",
   "execution_count": null,
   "metadata": {},
   "outputs": [],
   "source": [
    "xr = (0, 2)  # xrange\n",
    "n = 10000\n",
    "rng = np.random.default_rng(42)\n",
    "\n",
    "sdata = rng.normal(1, 0.1, size=n)\n",
    "bdata = rng.exponential(size=n)\n",
    "data = np.append(sdata, bdata)\n",
    "\n",
    "hist, edges = np.histogram(data, bins=40, range=xr)\n",
    "dx = np.diff(edges)[0]\n",
    "\n",
    "x = np.linspace(*xr, 100)\n",
    "\n",
    "def plot_example():\n",
    "    plt.clf()\n",
    "    fig, ax = plt.subplots(1)\n",
    "    ax.step(edges[:-1], hist)\n",
    "    ax.plot(x, n * dx * expon.pdf(x))\n",
    "    ax.plot(x, n * dx * norm.pdf(x, 1, 0.1))\n",
    "    plt.show()"
   ]
  },
  {
   "cell_type": "code",
   "execution_count": null,
   "metadata": {},
   "outputs": [],
   "source": [
    "plot.use(\"mpl_default\")\n",
    "plot_example()"
   ]
  },
  {
   "cell_type": "code",
   "execution_count": null,
   "metadata": {},
   "outputs": [],
   "source": [
    "plot.use(\"age\")\n",
    "plot_example()"
   ]
  }
 ],
 "metadata": {
  "kernelspec": {
   "display_name": "agepy",
   "language": "python",
   "name": "python3"
  },
  "language_info": {
   "codemirror_mode": {
    "name": "ipython",
    "version": 3
   },
   "file_extension": ".py",
   "mimetype": "text/x-python",
   "name": "python",
   "nbconvert_exporter": "python",
   "pygments_lexer": "ipython3",
   "version": "3.8.17"
  },
  "orig_nbformat": 4
 },
 "nbformat": 4,
 "nbformat_minor": 2
}
